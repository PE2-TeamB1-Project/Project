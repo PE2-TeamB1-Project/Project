{
 "cells": [
  {
   "cell_type": "markdown",
   "metadata": {},
   "source": [
    "# <u>manual</u>\n",
    "\n",
    "## __Introduction__\n",
    "\n",
    "+ The Program Engineering 2 : Team Project to make analysis package\n",
    "+ Team B1\n",
    "    * Kim Kang Seok\n",
    "    * Song jun su\n",
    "    * Choi il-gyu\n",
    "\n",
    "## Objective of project\n",
    "\n",
    "Analysing the data in xml files and show the contents to <u>csv file</u> and <u>graphs plotting data</u>(_I-V graph, transmission-wavelength graph_)\n",
    "\n",
    "## Structure of Package\n",
    "\n",
    "+ doc : .gitignore and README.md(explaining how to use our package)\n",
    "+ src \n",
    "    - error : find the error(out to standard)\n",
    "    - extract : bring the wafer name, experiment date, TestSiteinfo, wavelength\n",
    "    - filter : filter the unuseful xml file\n",
    "    - filter_2 :\n",
    "    - fitting : fit and show the approximation from IV graph and transmission spectra-wavelngth graph\n",
    "    - get_result : make the dataframe and stored by csv file and images\n",
    "    - i_none : the current value at -1V on IV graph\n",
    "    - i_one : the current value at 1V on IV graph\n",
    "    - iv:\n",
    "    - plot : plot the graph from extracted data(ex..I-V graph, transmission spectra-wavelength graph)\n",
    "    - png_signal : If there is no png file, we can't make Hyperlink, so we need to know the existence of png files\n",
    "    - reference\n",
    "    - rsq_fit : R Square value of Current data and Voltage data\n",
    "    - rsq_ref : R Square value of transmission and 7th wavelength\n",
    "    - search : \n",
    "    - transmission_measured :\n",
    "    - transmission_processed : \n",
    "+ run.py : the last move button\n",
    "\n",
    "## 시스템을 다루는 방법\n",
    "<img src =\"B1_4.jpg\" alt = \"\" style = \"width:500px\">\n",
    "<img src =\"B1_5.jpg\" alt = \"\" style = \"width:300px\">\n",
    "\n",
    "## Example of analysis result\n",
    "<img src =\"B1_1.png\" alt = \"\" style = \"width:500px\">\n",
    "<img src =\"B1_2.png\" alt = \"\" style = \"width:500px\">\n",
    "<img src =\"B1_3.png\" alt = \"\" style = \"width:500px\">"
   ]
  },
  {
   "cell_type": "code",
   "execution_count": null,
   "metadata": {},
   "outputs": [],
   "source": []
  },
  {
   "cell_type": "code",
   "execution_count": null,
   "metadata": {},
   "outputs": [],
   "source": []
  }
 ],
 "metadata": {
  "kernelspec": {
   "display_name": "Python 3",
   "language": "python",
   "name": "python3"
  },
  "language_info": {
   "codemirror_mode": {
    "name": "ipython",
    "version": 3
   },
   "file_extension": ".py",
   "mimetype": "text/x-python",
   "name": "python",
   "nbconvert_exporter": "python",
   "pygments_lexer": "ipython3",
   "version": "3.8.3"
  }
 },
 "nbformat": 4,
 "nbformat_minor": 4
}
