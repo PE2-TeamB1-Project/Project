{
 "cells": [
  {
   "cell_type": "markdown",
   "metadata": {},
   "source": [
    "# <u>manual</u>\n",
    "\n",
    "## __Introduction__\n",
    "\n",
    "+ The Program Engineering 2 : Team Project to make analysis package\n",
    "+ Team B1\n",
    "    * Choi il-gyu\n",
    "    * Kim Kang Seok\n",
    "    * Song jun su\n",
    "\n",
    "## Objective of project\n",
    "\n",
    "Analysing the data in xml files and show the contents to <u>csv file</u> and <u>graphs plotting data</u>(_I-V graph, transmission-wavelength graph_)\n",
    "\n",
    "## Structure of Package\n",
    "\n",
    "+ document : .gitignore and README.md(explaining how to use our package)\n",
    "+ module \n",
    "    - error : find the error(out to standard)\n",
    "    - extract : bring the wafer name, experiment date, TestSiteinfo, wavelength\n",
    "    - filter : filter the unuseful xml file\n",
    "    - fitting : fit and show the approximation from IV graph and transmission spectra-wavelngth graph\n",
    "    - get_result : make the dataframe and stored by csv file and images\n",
    "    - i_none : the current value at -1V on IV graph\n",
    "    - i_one : the current value at 1V on IV graph\n",
    "    - option : selective messages to run the package\n",
    "    - plot : plot the graph from extracted data(ex..I-V graph, transmission spectra-wavelength graph)\n",
    "    - png_signal : If there is no png file, we can't make Hyperlink, so we need to know the existence of png files\n",
    "    - rsq_fit : R Square value of Current data and Voltage data\n",
    "    - rsq_ref : R Square value of transmission and 7th wavelength\n",
    "+ run.py : the last move button\n",
    "\n",
    "## Example of analysis result\n",
    "![](/document/B1_1.png)\n",
    "![](/document/B1_2.png)\n",
    "![](/document/B1_3.png)"
   ]
  },
  {
   "cell_type": "code",
   "execution_count": null,
   "metadata": {},
   "outputs": [],
   "source": []
  }
 ],
 "metadata": {
  "kernelspec": {
   "display_name": "Python 3",
   "language": "python",
   "name": "python3"
  },
  "language_info": {
   "codemirror_mode": {
    "name": "ipython",
    "version": 3
   },
   "file_extension": ".py",
   "mimetype": "text/x-python",
   "name": "python",
   "nbconvert_exporter": "python",
   "pygments_lexer": "ipython3",
   "version": "3.8.5"
  }
 },
 "nbformat": 4,
 "nbformat_minor": 4
}
