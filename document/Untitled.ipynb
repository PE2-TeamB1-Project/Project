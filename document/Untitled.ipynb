{
 "cells": [
  {
   "cell_type": "markdown",
   "id": "6906f49e",
   "metadata": {},
   "source": [
    "## 안녕"
   ]
  },
  {
   "cell_type": "markdown",
   "id": "e53ae9b9",
   "metadata": {},
   "source": [
    "![](B1_1.png)"
   ]
  },
  {
   "cell_type": "markdown",
   "id": "ca5be843",
   "metadata": {},
   "source": [
    "-"
   ]
  },
  {
   "cell_type": "code",
   "execution_count": null,
   "id": "ef1de77c",
   "metadata": {},
   "outputs": [],
   "source": []
  },
  {
   "cell_type": "code",
   "execution_count": null,
   "id": "48737c98",
   "metadata": {},
   "outputs": [],
   "source": []
  }
 ],
 "metadata": {
  "kernelspec": {
   "display_name": "Python 3",
   "language": "python",
   "name": "python3"
  },
  "language_info": {
   "codemirror_mode": {
    "name": "ipython",
    "version": 3
   },
   "file_extension": ".py",
   "mimetype": "text/x-python",
   "name": "python",
   "nbconvert_exporter": "python",
   "pygments_lexer": "ipython3",
   "version": "3.8.5"
  }
 },
 "nbformat": 4,
 "nbformat_minor": 5
}
